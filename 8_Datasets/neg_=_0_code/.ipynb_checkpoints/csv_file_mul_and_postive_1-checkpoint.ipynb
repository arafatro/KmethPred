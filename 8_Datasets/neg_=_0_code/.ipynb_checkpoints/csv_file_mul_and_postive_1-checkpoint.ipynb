{
 "cells": [
  {
   "cell_type": "markdown",
   "metadata": {
    "colab_type": "text",
    "id": "k9tvozh5UGrJ"
   },
   "source": [
    "# CSV file 0"
   ]
  },
  {
   "cell_type": "markdown",
   "metadata": {},
   "source": [
    "## Load dataset"
   ]
  },
  {
   "cell_type": "code",
   "execution_count": 1,
   "metadata": {},
   "outputs": [
    {
     "data": {
      "text/plain": [
       "(14972, 64)"
      ]
     },
     "execution_count": 1,
     "metadata": {},
     "output_type": "execute_result"
    }
   ],
   "source": [
    "import pandas as pd\n",
    "\n",
    "fileName = 'Malo_spd3_neg copy.csv'\n",
    "dataset = pd.read_csv(fileName, header=None, engine='python')\n",
    "dataset.shape"
   ]
  },
  {
   "cell_type": "code",
   "execution_count": 2,
   "metadata": {},
   "outputs": [
    {
     "data": {
      "text/html": [
       "<div>\n",
       "<style scoped>\n",
       "    .dataframe tbody tr th:only-of-type {\n",
       "        vertical-align: middle;\n",
       "    }\n",
       "\n",
       "    .dataframe tbody tr th {\n",
       "        vertical-align: top;\n",
       "    }\n",
       "\n",
       "    .dataframe thead th {\n",
       "        text-align: right;\n",
       "    }\n",
       "</style>\n",
       "<table border=\"1\" class=\"dataframe\">\n",
       "  <thead>\n",
       "    <tr style=\"text-align: right;\">\n",
       "      <th></th>\n",
       "      <th>0</th>\n",
       "      <th>1</th>\n",
       "      <th>2</th>\n",
       "      <th>3</th>\n",
       "      <th>4</th>\n",
       "      <th>5</th>\n",
       "      <th>6</th>\n",
       "      <th>7</th>\n",
       "      <th>8</th>\n",
       "      <th>9</th>\n",
       "      <th>...</th>\n",
       "      <th>54</th>\n",
       "      <th>55</th>\n",
       "      <th>56</th>\n",
       "      <th>57</th>\n",
       "      <th>58</th>\n",
       "      <th>59</th>\n",
       "      <th>60</th>\n",
       "      <th>61</th>\n",
       "      <th>62</th>\n",
       "      <th>63</th>\n",
       "    </tr>\n",
       "  </thead>\n",
       "  <tbody>\n",
       "    <tr>\n",
       "      <th>0</th>\n",
       "      <td>21.0</td>\n",
       "      <td>-9.251048</td>\n",
       "      <td>0.943639</td>\n",
       "      <td>-0.031425</td>\n",
       "      <td>2.041655</td>\n",
       "      <td>-4.146520</td>\n",
       "      <td>3.491820</td>\n",
       "      <td>4.034271</td>\n",
       "      <td>-9.251048</td>\n",
       "      <td>21.0</td>\n",
       "      <td>...</td>\n",
       "      <td>21.0</td>\n",
       "      <td>-6.099400</td>\n",
       "      <td>4.034271</td>\n",
       "      <td>-3.336774</td>\n",
       "      <td>-15.813262</td>\n",
       "      <td>-17.030062</td>\n",
       "      <td>1.631072</td>\n",
       "      <td>-20.991369</td>\n",
       "      <td>-6.099400</td>\n",
       "      <td>21.0</td>\n",
       "    </tr>\n",
       "    <tr>\n",
       "      <th>1</th>\n",
       "      <td>21.0</td>\n",
       "      <td>-12.770338</td>\n",
       "      <td>4.797623</td>\n",
       "      <td>1.758554</td>\n",
       "      <td>11.464305</td>\n",
       "      <td>-5.923655</td>\n",
       "      <td>4.948282</td>\n",
       "      <td>2.246607</td>\n",
       "      <td>-12.770338</td>\n",
       "      <td>21.0</td>\n",
       "      <td>...</td>\n",
       "      <td>21.0</td>\n",
       "      <td>-8.037327</td>\n",
       "      <td>2.246607</td>\n",
       "      <td>-2.014212</td>\n",
       "      <td>-13.497183</td>\n",
       "      <td>-16.951739</td>\n",
       "      <td>6.147421</td>\n",
       "      <td>-5.896488</td>\n",
       "      <td>-8.037327</td>\n",
       "      <td>21.0</td>\n",
       "    </tr>\n",
       "    <tr>\n",
       "      <th>2</th>\n",
       "      <td>21.0</td>\n",
       "      <td>-3.413651</td>\n",
       "      <td>-1.534176</td>\n",
       "      <td>-6.633155</td>\n",
       "      <td>12.253640</td>\n",
       "      <td>10.065576</td>\n",
       "      <td>-10.564093</td>\n",
       "      <td>3.567438</td>\n",
       "      <td>-3.413651</td>\n",
       "      <td>21.0</td>\n",
       "      <td>...</td>\n",
       "      <td>21.0</td>\n",
       "      <td>-8.171947</td>\n",
       "      <td>3.567438</td>\n",
       "      <td>-0.919204</td>\n",
       "      <td>-10.762807</td>\n",
       "      <td>-15.115749</td>\n",
       "      <td>8.208736</td>\n",
       "      <td>-0.050775</td>\n",
       "      <td>-8.171947</td>\n",
       "      <td>21.0</td>\n",
       "    </tr>\n",
       "    <tr>\n",
       "      <th>3</th>\n",
       "      <td>21.0</td>\n",
       "      <td>-7.206878</td>\n",
       "      <td>7.501095</td>\n",
       "      <td>-4.242959</td>\n",
       "      <td>-2.348388</td>\n",
       "      <td>5.464256</td>\n",
       "      <td>-5.464118</td>\n",
       "      <td>-5.418254</td>\n",
       "      <td>-7.206878</td>\n",
       "      <td>21.0</td>\n",
       "      <td>...</td>\n",
       "      <td>21.0</td>\n",
       "      <td>7.922281</td>\n",
       "      <td>-5.418254</td>\n",
       "      <td>-2.156342</td>\n",
       "      <td>-9.754236</td>\n",
       "      <td>-11.696861</td>\n",
       "      <td>7.749768</td>\n",
       "      <td>-20.468692</td>\n",
       "      <td>7.922281</td>\n",
       "      <td>21.0</td>\n",
       "    </tr>\n",
       "    <tr>\n",
       "      <th>4</th>\n",
       "      <td>21.0</td>\n",
       "      <td>-7.183890</td>\n",
       "      <td>3.377660</td>\n",
       "      <td>0.165740</td>\n",
       "      <td>8.010740</td>\n",
       "      <td>-1.707288</td>\n",
       "      <td>2.149678</td>\n",
       "      <td>-0.452000</td>\n",
       "      <td>-7.183890</td>\n",
       "      <td>21.0</td>\n",
       "      <td>...</td>\n",
       "      <td>21.0</td>\n",
       "      <td>-0.144630</td>\n",
       "      <td>-0.452000</td>\n",
       "      <td>1.273002</td>\n",
       "      <td>-8.436225</td>\n",
       "      <td>-7.719423</td>\n",
       "      <td>3.897118</td>\n",
       "      <td>-6.626035</td>\n",
       "      <td>-0.144630</td>\n",
       "      <td>21.0</td>\n",
       "    </tr>\n",
       "  </tbody>\n",
       "</table>\n",
       "<p>5 rows × 64 columns</p>\n",
       "</div>"
      ],
      "text/plain": [
       "     0          1         2         3          4          5          6   \\\n",
       "0  21.0  -9.251048  0.943639 -0.031425   2.041655  -4.146520   3.491820   \n",
       "1  21.0 -12.770338  4.797623  1.758554  11.464305  -5.923655   4.948282   \n",
       "2  21.0  -3.413651 -1.534176 -6.633155  12.253640  10.065576 -10.564093   \n",
       "3  21.0  -7.206878  7.501095 -4.242959  -2.348388   5.464256  -5.464118   \n",
       "4  21.0  -7.183890  3.377660  0.165740   8.010740  -1.707288   2.149678   \n",
       "\n",
       "         7          8     9   ...    54        55        56        57  \\\n",
       "0  4.034271  -9.251048  21.0  ...  21.0 -6.099400  4.034271 -3.336774   \n",
       "1  2.246607 -12.770338  21.0  ...  21.0 -8.037327  2.246607 -2.014212   \n",
       "2  3.567438  -3.413651  21.0  ...  21.0 -8.171947  3.567438 -0.919204   \n",
       "3 -5.418254  -7.206878  21.0  ...  21.0  7.922281 -5.418254 -2.156342   \n",
       "4 -0.452000  -7.183890  21.0  ...  21.0 -0.144630 -0.452000  1.273002   \n",
       "\n",
       "          58         59        60         61        62    63  \n",
       "0 -15.813262 -17.030062  1.631072 -20.991369 -6.099400  21.0  \n",
       "1 -13.497183 -16.951739  6.147421  -5.896488 -8.037327  21.0  \n",
       "2 -10.762807 -15.115749  8.208736  -0.050775 -8.171947  21.0  \n",
       "3  -9.754236 -11.696861  7.749768 -20.468692  7.922281  21.0  \n",
       "4  -8.436225  -7.719423  3.897118  -6.626035 -0.144630  21.0  \n",
       "\n",
       "[5 rows x 64 columns]"
      ]
     },
     "execution_count": 2,
     "metadata": {},
     "output_type": "execute_result"
    }
   ],
   "source": [
    "dataset.head(5)"
   ]
  },
  {
   "cell_type": "markdown",
   "metadata": {},
   "source": [
    "## Negative = 0"
   ]
  },
  {
   "cell_type": "code",
   "execution_count": 3,
   "metadata": {},
   "outputs": [
    {
     "ename": "NameError",
     "evalue": "name 'np' is not defined",
     "output_type": "error",
     "traceback": [
      "\u001b[0;31m---------------------------------------------------------------------------\u001b[0m",
      "\u001b[0;31mNameError\u001b[0m                                 Traceback (most recent call last)",
      "\u001b[0;32m<ipython-input-3-da1059e3bdfc>\u001b[0m in \u001b[0;36m<module>\u001b[0;34m\u001b[0m\n\u001b[0;32m----> 1\u001b[0;31m \u001b[0mdummy_one\u001b[0m \u001b[0;34m=\u001b[0m \u001b[0mnp\u001b[0m\u001b[0;34m.\u001b[0m\u001b[0mzeros\u001b[0m\u001b[0;34m(\u001b[0m\u001b[0mlen\u001b[0m\u001b[0;34m(\u001b[0m\u001b[0mdataset\u001b[0m\u001b[0;34m)\u001b[0m\u001b[0;34m,\u001b[0m \u001b[0mdtype\u001b[0m\u001b[0;34m=\u001b[0m\u001b[0;34m'int'\u001b[0m\u001b[0;34m)\u001b[0m\u001b[0;34m\u001b[0m\u001b[0;34m\u001b[0m\u001b[0m\n\u001b[0m\u001b[1;32m      2\u001b[0m \u001b[0mseries\u001b[0m \u001b[0;34m=\u001b[0m \u001b[0mpd\u001b[0m\u001b[0;34m.\u001b[0m\u001b[0mSeries\u001b[0m\u001b[0;34m(\u001b[0m\u001b[0mdummy_one\u001b[0m\u001b[0;34m)\u001b[0m\u001b[0;34m\u001b[0m\u001b[0;34m\u001b[0m\u001b[0m\n\u001b[1;32m      3\u001b[0m \u001b[0mdataset\u001b[0m \u001b[0;34m=\u001b[0m \u001b[0mpd\u001b[0m\u001b[0;34m.\u001b[0m\u001b[0mconcat\u001b[0m\u001b[0;34m(\u001b[0m\u001b[0;34m[\u001b[0m\u001b[0mdataset\u001b[0m\u001b[0;34m,\u001b[0m \u001b[0mseries\u001b[0m\u001b[0;34m]\u001b[0m\u001b[0;34m,\u001b[0m \u001b[0maxis\u001b[0m\u001b[0;34m=\u001b[0m\u001b[0;36m1\u001b[0m\u001b[0;34m)\u001b[0m\u001b[0;34m\u001b[0m\u001b[0;34m\u001b[0m\u001b[0m\n",
      "\u001b[0;31mNameError\u001b[0m: name 'np' is not defined"
     ]
    }
   ],
   "source": [
    "import numpy as np\n",
    "\n",
    "dummy_one = np.zeros(len(dataset), dtype='int')\n",
    "series = pd.Series(dummy_one)\n",
    "dataset = pd.concat([dataset, series], axis=1)"
   ]
  },
  {
   "cell_type": "code",
   "execution_count": null,
   "metadata": {},
   "outputs": [],
   "source": [
    "dataset.shape"
   ]
  },
  {
   "cell_type": "code",
   "execution_count": null,
   "metadata": {},
   "outputs": [],
   "source": [
    "dataset.head(5)"
   ]
  },
  {
   "cell_type": "markdown",
   "metadata": {},
   "source": [
    "## After negative = 0 and save the new CSV file"
   ]
  },
  {
   "cell_type": "code",
   "execution_count": null,
   "metadata": {},
   "outputs": [],
   "source": [
    "dataset.to_csv('Malonylation_neg.csv')"
   ]
  },
  {
   "cell_type": "markdown",
   "metadata": {},
   "source": [
    "## Remove unnecessary row and column"
   ]
  },
  {
   "cell_type": "code",
   "execution_count": null,
   "metadata": {},
   "outputs": [],
   "source": [
    "import pandas as pd\n",
    "\n",
    "fileName = 'Malonylation_neg.csv'\n",
    "dataset = pd.read_csv(fileName, header=None, engine='python')\n",
    "dataset.shape"
   ]
  },
  {
   "cell_type": "code",
   "execution_count": null,
   "metadata": {},
   "outputs": [],
   "source": [
    "dataset.head(5)"
   ]
  },
  {
   "cell_type": "code",
   "execution_count": null,
   "metadata": {},
   "outputs": [],
   "source": [
    "df = pd.DataFrame(dataset)\n",
    "\n",
    "df = df.iloc[1:, 1:]"
   ]
  },
  {
   "cell_type": "code",
   "execution_count": null,
   "metadata": {},
   "outputs": [],
   "source": [
    "df.head(5)"
   ]
  },
  {
   "cell_type": "code",
   "execution_count": null,
   "metadata": {},
   "outputs": [],
   "source": [
    "df.shape"
   ]
  },
  {
   "cell_type": "markdown",
   "metadata": {},
   "source": [
    "## Final CSV (Output)"
   ]
  },
  {
   "cell_type": "code",
   "execution_count": null,
   "metadata": {},
   "outputs": [],
   "source": [
    "df.to_csv('Malonylation_negative.csv')"
   ]
  }
 ],
 "metadata": {
  "colab": {
   "collapsed_sections": [],
   "name": "Malonylation_EDipeptide.ipynb",
   "provenance": [],
   "toc_visible": true
  },
  "kernelspec": {
   "display_name": "Python 3",
   "language": "python",
   "name": "python3"
  },
  "language_info": {
   "codemirror_mode": {
    "name": "ipython",
    "version": 3
   },
   "file_extension": ".py",
   "mimetype": "text/x-python",
   "name": "python",
   "nbconvert_exporter": "python",
   "pygments_lexer": "ipython3",
   "version": "3.7.3"
  }
 },
 "nbformat": 4,
 "nbformat_minor": 1
}
